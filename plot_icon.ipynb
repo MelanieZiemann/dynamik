{
 "cells": [
  {
   "cell_type": "code",
   "execution_count": null,
   "metadata": {},
   "outputs": [],
   "source": [
    "import netCDF4\n",
    "import numpy as np\n",
    "from matplotlib import pyplot as plt"
   ]
  },
  {
   "cell_type": "code",
   "execution_count": null,
   "metadata": {},
   "outputs": [],
   "source": [
    "#Einlesen der Daten auf Druckflächen\n",
    "with netCDF4.Dataset('icon_pl_20200101.nc') as ncf:\n",
    "    #Drucke Inhalt der Datei\n",
    "    #print(ncf)\n",
    "    \n",
    "    #Lade die Koordinaten\n",
    "    lons = ncf.variables['lon'][:]\n",
    "    lats = ncf.variables['lat'][:]\n",
    "    plevs = ncf.variables['plev'][:] / 100. #Umrechnung in hPa\n",
    "    \n",
    "    #Lade die Variablen\n",
    "    phi500 = ncf.variables['geopot'][0, plevs==500., ...].squeeze()\n",
    "    phi1000 = ncf.variables['geopot'][0, plevs==1000., ...].squeeze()\n",
    "    omega500 = ncf.variables['omega'][0, plevs==500., ...].squeeze()\n",
    "    vor500 = ncf.variables['vor'][0, plevs==500., ...].squeeze()"
   ]
  },
  {
   "cell_type": "code",
   "execution_count": null,
   "metadata": {},
   "outputs": [],
   "source": [
    "#Einlesen der Niederschlagsfelder\n",
    "with netCDF4.Dataset('icon_sfc_20200101.nc') as ncf:\n",
    "    #Drucke Inhalt der Datei\n",
    "    #print(ncf)\n",
    "    \n",
    "    #Lade Niederschalgsrate als Summe von Regen und Schnee\n",
    "    prrate = ncf.variables['rain_gsp_rate'][0, ...].squeeze() \\\n",
    "             + ncf.variables['snow_gsp_rate'][0, ...].squeeze()\n",
    "\n",
    "#Umrechnung in mm/h\n",
    "prrate *= 3600."
   ]
  },
  {
   "cell_type": "code",
   "execution_count": null,
   "metadata": {},
   "outputs": [],
   "source": [
    "#Plot: Geopotential einer Zyklone über dem Atlantik\n",
    "#--------------------------------------------------\n",
    "\n",
    "#Größe des Plot\n",
    "plt.figure(figsize=(18,6))\n",
    "#Contour-Plot des Geopotentials auf 500hPa\n",
    "plt.contour(lons, lats, phi500, np.arange(50000, 60000, 500), colors='k')\n",
    "#Seitenverhältnis und Plotbereich wählen\n",
    "plt.gca().set_aspect('equal')\n",
    "plt.xlim([-50, -25]) # 50°W bis 25°W\n",
    "plt.ylim([35,55]) # 35°N bie 55°N\n"
   ]
  }
 ],
 "metadata": {
  "kernelspec": {
   "display_name": "Python 3",
   "language": "python",
   "name": "python3"
  },
  "language_info": {
   "codemirror_mode": {
    "name": "ipython",
    "version": 3
   },
   "file_extension": ".py",
   "mimetype": "text/x-python",
   "name": "python",
   "nbconvert_exporter": "python",
   "pygments_lexer": "ipython3",
   "version": "3.7.3"
  }
 },
 "nbformat": 4,
 "nbformat_minor": 4
}
